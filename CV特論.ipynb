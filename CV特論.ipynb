{
  "nbformat": 4,
  "nbformat_minor": 0,
  "metadata": {
    "colab": {
      "name": "CV特論.ipynb",
      "provenance": [],
      "collapsed_sections": [],
      "authorship_tag": "ABX9TyPkyR9v/a2jWPdWPg/iqXB/",
      "include_colab_link": true
    },
    "kernelspec": {
      "name": "python3",
      "display_name": "Python 3"
    },
    "accelerator": "GPU"
  },
  "cells": [
    {
      "cell_type": "markdown",
      "metadata": {
        "id": "view-in-github",
        "colab_type": "text"
      },
      "source": [
        "<a href=\"https://colab.research.google.com/github/shota74/-/blob/master/CV%E7%89%B9%E8%AB%96.ipynb\" target=\"_parent\"><img src=\"https://colab.research.google.com/assets/colab-badge.svg\" alt=\"Open In Colab\"/></a>"
      ]
    },
    {
      "cell_type": "code",
      "metadata": {
        "id": "H4-lpyYBvF3f",
        "colab": {
          "base_uri": "https://localhost:8080/"
        },
        "outputId": "c1df61dd-7e46-49b7-cdaa-7eee6a596bcf"
      },
      "source": [
        "!pip install efficientnet_pytorch\n",
        "# モジュールのインポート\n",
        "from time import time\n",
        "import torch\n",
        "import torch.nn as nn\n",
        "\n",
        "import torchvision\n",
        "import torchvision.transforms as transforms\n",
        "from efficientnet_pytorch import EfficientNet\n",
        "from google.colab import drive #インポート\n",
        "\n",
        "drive.mount('/content/gdrive') #GoogleDriveのマウント\n",
        "# GPUの確認\n",
        "use_cuda = torch.cuda.is_available()\n",
        "print('Use CUDA:', use_cuda)\n",
        "\n",
        "model = EfficientNet.from_pretrained('efficientnet-b4')\n",
        "num_ftrs = model._fc.in_features\n",
        "model._fc = nn.Linear(num_ftrs, 100)\n",
        "#print(model)"
      ],
      "execution_count": null,
      "outputs": [
        {
          "output_type": "stream",
          "text": [
            "Requirement already satisfied: efficientnet_pytorch in /usr/local/lib/python3.6/dist-packages (0.7.0)\n",
            "Requirement already satisfied: torch in /usr/local/lib/python3.6/dist-packages (from efficientnet_pytorch) (1.7.0+cu101)\n",
            "Requirement already satisfied: numpy in /usr/local/lib/python3.6/dist-packages (from torch->efficientnet_pytorch) (1.18.5)\n",
            "Requirement already satisfied: typing-extensions in /usr/local/lib/python3.6/dist-packages (from torch->efficientnet_pytorch) (3.7.4.3)\n",
            "Requirement already satisfied: dataclasses in /usr/local/lib/python3.6/dist-packages (from torch->efficientnet_pytorch) (0.7)\n",
            "Requirement already satisfied: future in /usr/local/lib/python3.6/dist-packages (from torch->efficientnet_pytorch) (0.16.0)\n",
            "Drive already mounted at /content/gdrive; to attempt to forcibly remount, call drive.mount(\"/content/gdrive\", force_remount=True).\n",
            "Use CUDA: True\n",
            "Loaded pretrained weights for efficientnet-b4\n"
          ],
          "name": "stdout"
        }
      ]
    },
    {
      "cell_type": "code",
      "metadata": {
        "colab": {
          "base_uri": "https://localhost:8080/"
        },
        "id": "omusXcknhsJM",
        "outputId": "eff4e052-1fa5-44db-c23e-f41af2b17972"
      },
      "source": [
        "!nvidia-smi"
      ],
      "execution_count": null,
      "outputs": [
        {
          "output_type": "stream",
          "text": [
            "Mon Nov 23 11:11:43 2020       \n",
            "+-----------------------------------------------------------------------------+\n",
            "| NVIDIA-SMI 455.38       Driver Version: 418.67       CUDA Version: 10.1     |\n",
            "|-------------------------------+----------------------+----------------------+\n",
            "| GPU  Name        Persistence-M| Bus-Id        Disp.A | Volatile Uncorr. ECC |\n",
            "| Fan  Temp  Perf  Pwr:Usage/Cap|         Memory-Usage | GPU-Util  Compute M. |\n",
            "|                               |                      |               MIG M. |\n",
            "|===============================+======================+======================|\n",
            "|   0  Tesla K80           Off  | 00000000:00:04.0 Off |                    0 |\n",
            "| N/A   47C    P0    67W / 149W |     11MiB / 11441MiB |      0%      Default |\n",
            "|                               |                      |                 ERR! |\n",
            "+-------------------------------+----------------------+----------------------+\n",
            "                                                                               \n",
            "+-----------------------------------------------------------------------------+\n",
            "| Processes:                                                                  |\n",
            "|  GPU   GI   CI        PID   Type   Process name                  GPU Memory |\n",
            "|        ID   ID                                                   Usage      |\n",
            "|=============================================================================|\n",
            "|  No running processes found                                                 |\n",
            "+-----------------------------------------------------------------------------+\n"
          ],
          "name": "stdout"
        }
      ]
    },
    {
      "cell_type": "code",
      "metadata": {
        "id": "h-BkcwmEvZ3v",
        "colab": {
          "base_uri": "https://localhost:8080/"
        },
        "outputId": "8dc4838f-cbad-47d5-a865-45fb32099256"
      },
      "source": [
        "tfms = transforms.Compose([transforms.Resize(224),\n",
        "                           transforms.RandomHorizontalFlip(p = 0.5),\n",
        "                           transforms.ToTensor(),\n",
        "                           transforms.Normalize([0.485, 0.456, 0.406], [0.229, 0.224, 0.225]),])\n",
        "\n",
        "tfms_test = transforms.Compose([transforms.Resize(224),\n",
        "                           transforms.ToTensor(),\n",
        "                           transforms.Normalize([0.485, 0.456, 0.406], [0.229, 0.224, 0.225]),])\n",
        "train_data = torchvision.datasets.CIFAR100(root=\"./\", train=True, transform=tfms, download=True)\n",
        "test_data = torchvision.datasets.CIFAR100(root=\"./\", train=False, transform=tfms_test, download=True)\n",
        "\n",
        "print(train_data)\n",
        "print(test_data)"
      ],
      "execution_count": null,
      "outputs": [
        {
          "output_type": "stream",
          "text": [
            "Files already downloaded and verified\n",
            "Files already downloaded and verified\n",
            "Dataset CIFAR100\n",
            "    Number of datapoints: 50000\n",
            "    Root location: ./\n",
            "    Split: Train\n",
            "    StandardTransform\n",
            "Transform: Compose(\n",
            "               Resize(size=224, interpolation=PIL.Image.BILINEAR)\n",
            "               RandomHorizontalFlip(p=0.5)\n",
            "               ToTensor()\n",
            "               Normalize(mean=[0.485, 0.456, 0.406], std=[0.229, 0.224, 0.225])\n",
            "           )\n",
            "Dataset CIFAR100\n",
            "    Number of datapoints: 10000\n",
            "    Root location: ./\n",
            "    Split: Test\n",
            "    StandardTransform\n",
            "Transform: Compose(\n",
            "               Resize(size=224, interpolation=PIL.Image.BILINEAR)\n",
            "               ToTensor()\n",
            "               Normalize(mean=[0.485, 0.456, 0.406], std=[0.229, 0.224, 0.225])\n",
            "           )\n"
          ],
          "name": "stdout"
        }
      ]
    },
    {
      "cell_type": "code",
      "metadata": {
        "id": "KvwxaXLHviik"
      },
      "source": [
        "if use_cuda:\n",
        "    model.cuda()\n",
        "\n",
        "#print(model)\n",
        "optimizer = torch.optim.SGD(model.parameters(), lr=0.1, momentum=0.9)\n",
        "scheduler = torch.optim.lr_scheduler.MultiStepLR(optimizer, [40,70], gamma=0.1)"
      ],
      "execution_count": null,
      "outputs": []
    },
    {
      "cell_type": "code",
      "metadata": {
        "id": "V0JIIukRxCEX",
        "colab": {
          "base_uri": "https://localhost:8080/"
        },
        "outputId": "9ce2c650-5861-4e4d-a456-3743ffafafbe"
      },
      "source": [
        "# ミニバッチサイズ・エポック数の設定\n",
        "batch_size = 80\n",
        "epoch_num = 100\n",
        "n_iter = len(train_data) / batch_size\n",
        "\n",
        "# データローダーの設定\n",
        "train_loader = torch.utils.data.DataLoader(train_data, batch_size=batch_size, shuffle=True)\n",
        "test_loader = torch.utils.data.DataLoader(test_data, batch_size=100, shuffle=False)\n",
        "\n",
        "best_pre = 0\n",
        "# 誤差関数の設定\n",
        "criterion = nn.CrossEntropyLoss()\n",
        "if use_cuda:\n",
        "    criterion.cuda()\n",
        "\n",
        "\n",
        "load_path =  \"/content/gdrive/My Drive/機械学習/filename.pth\"\n",
        "\n",
        "model.load_state_dict(torch.load(load_path))\n",
        "# ネットワークを学習モードへ変更\n",
        "model.train()\n",
        "\n",
        "scaler = torch.cuda.amp.GradScaler()\n",
        "start = time()\n",
        "for epoch in range(1, epoch_num+1):\n",
        "    sum_loss = 0.0\n",
        "    count = 0\n",
        "    \n",
        "    for image, label in train_loader:\n",
        "        \n",
        "        scheduler.step()\n",
        "        if use_cuda:\n",
        "            image = image.cuda()\n",
        "            label = label.cuda()\n",
        "        \n",
        "        with torch.cuda.amp.autocast():\n",
        "            y = model(image)\n",
        "            loss = criterion(y, label)\n",
        "        \n",
        "        #model.zero_grad()\n",
        "        optimizer.zero_grad()\n",
        "        #loss.backward()\n",
        "        scaler.scale(loss).backward()\n",
        "        scaler.step(optimizer)\n",
        "        scaler.update()\n",
        "        #print(loss.item())\n",
        "        #optimizer.step()\n",
        "        \n",
        "        sum_loss += loss.item()\n",
        "        \n",
        "        pred = torch.argmax(y, dim=1)\n",
        "        count += torch.sum(pred == label)\n",
        "        \n",
        "    print(\"epoch: {}, mean loss: {}, mean accuracy: {}, elapsed_time :{}\".format(epoch,\n",
        "                                                                                 sum_loss / n_iter,\n",
        "                                                                                 count.item() / len(train_data),\n",
        "                                                                                 time() - start))\n",
        "    \n",
        "    model_save_name = 'filename.pth' # 保存ファイル名\n",
        "    path = \"/content/gdrive/My Drive/機械学習/filename.pth\" # 保存先pathの設定\n",
        "    torch.save(model.state_dict(), path) # 保存\n",
        "\n",
        "    if epoch%10 == 0:\n",
        "        # ネットワークを評価モードへ変更\n",
        "        model.eval()\n",
        "\n",
        "        # 評価の実行\n",
        "        count = 0\n",
        "        with torch.no_grad():\n",
        "            for image, label in test_loader:\n",
        "                if use_cuda:\n",
        "                    image = image.cuda()\n",
        "                    label = label.cuda()\n",
        "                with torch.cuda.amp.autocast():\n",
        "                    y = model(image)\n",
        "                pred = torch.argmax(y, dim=1)\n",
        "                count += torch.sum(pred == label)\n",
        "        print(\"test accuracy: {}\".format(count.item() / 10000.))\n",
        "        if best_pre < (count.item() / 10000):\n",
        "            best_pre = count.item() / 10000\n",
        "            model_save = 'filename_best.pth' # 保存ファイル名\n",
        "            path = \"/content/gdrive/My Drive/機械学習/filename_best.pth\" # 保存先pathの設定\n",
        "            torch.save(model.state_dict(), path) # 保存\n",
        "\n"
      ],
      "execution_count": null,
      "outputs": [
        {
          "output_type": "stream",
          "text": [
            "/usr/local/lib/python3.6/dist-packages/torch/optim/lr_scheduler.py:136: UserWarning: Detected call of `lr_scheduler.step()` before `optimizer.step()`. In PyTorch 1.1.0 and later, you should call them in the opposite order: `optimizer.step()` before `lr_scheduler.step()`.  Failure to do this will result in PyTorch skipping the first value of the learning rate schedule. See more details at https://pytorch.org/docs/stable/optim.html#how-to-adjust-learning-rate\n",
            "  \"https://pytorch.org/docs/stable/optim.html#how-to-adjust-learning-rate\", UserWarning)\n"
          ],
          "name": "stderr"
        },
        {
          "output_type": "stream",
          "text": [
            "epoch: 1, mean loss: 0.868503481733799, mean accuracy: 0.74628, elapsed_time :1853.481653213501\n",
            "epoch: 2, mean loss: 0.5952524259090424, mean accuracy: 0.8203, elapsed_time :3705.2299377918243\n",
            "epoch: 3, mean loss: 0.49164786179065706, mean accuracy: 0.8469, elapsed_time :5557.141652584076\n",
            "epoch: 4, mean loss: 0.4271341685771942, mean accuracy: 0.8677, elapsed_time :7419.189713001251\n",
            "epoch: 5, mean loss: 0.3790869579076767, mean accuracy: 0.88044, elapsed_time :9298.979536294937\n",
            "epoch: 6, mean loss: 0.33827255187034605, mean accuracy: 0.8934, elapsed_time :11224.454279184341\n",
            "epoch: 7, mean loss: 0.308205536365509, mean accuracy: 0.90382, elapsed_time :13111.497868537903\n"
          ],
          "name": "stdout"
        }
      ]
    },
    {
      "cell_type": "markdown",
      "metadata": {
        "id": "m9UOIvjtGboz"
      },
      "source": [
        ""
      ]
    },
    {
      "cell_type": "code",
      "metadata": {
        "id": "Vti8fwHVGcGj"
      },
      "source": [
        "# データローダーの準備\n",
        "test_loader = torch.utils.data.DataLoader(test_data, batch_size=100, shuffle=False)\n",
        "\n",
        "# ネットワークを評価モードへ変更\n",
        "model.eval()\n",
        "\n",
        "# 評価の実行\n",
        "count = 0\n",
        "with torch.no_grad():\n",
        "    for image, label in test_loader:\n",
        "\n",
        "        if use_cuda:\n",
        "            image = image.cuda()\n",
        "            label = label.cuda()\n",
        "\n",
        "        with torch.cuda.amp.autocast():\n",
        "            y = model(image)\n",
        "\n",
        "        pred = torch.argmax(y, dim=1)\n",
        "        count += torch.sum(pred == label)\n",
        "\n",
        "print(\"test accuracy: {}\".format(count.item() / 10000.))"
      ],
      "execution_count": null,
      "outputs": []
    },
    {
      "cell_type": "code",
      "metadata": {
        "id": "fNUO5huBkMuy"
      },
      "source": [
        ""
      ],
      "execution_count": null,
      "outputs": []
    }
  ]
}